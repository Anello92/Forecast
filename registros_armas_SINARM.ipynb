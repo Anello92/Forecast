{
  "nbformat": 4,
  "nbformat_minor": 0,
  "metadata": {
    "colab": {
      "private_outputs": true,
      "provenance": [],
      "authorship_tag": "ABX9TyP77gckSLYYhcX7HoqJQ7WF",
      "include_colab_link": true
    },
    "kernelspec": {
      "name": "python3",
      "display_name": "Python 3"
    },
    "language_info": {
      "name": "python"
    }
  },
  "cells": [
    {
      "cell_type": "markdown",
      "metadata": {
        "id": "view-in-github",
        "colab_type": "text"
      },
      "source": [
        "<a href=\"https://colab.research.google.com/github/Anello92/AnaliseEstatistica/blob/master/registros_armas_SINARM.ipynb\" target=\"_parent\"><img src=\"https://colab.research.google.com/assets/colab-badge.svg\" alt=\"Open In Colab\"/></a>"
      ]
    },
    {
      "cell_type": "markdown",
      "source": [
        "## SINARM Registros de Armas Expedidos 2022 a 2023\n",
        "\n",
        "[Dados da Polícia Federal](https://dados.gov.br/dados/conjuntos-dados/sinarm)\n",
        "\n",
        "---\n",
        "\n"
      ],
      "metadata": {
        "id": "K4GTHUUr4c2U"
      }
    },
    {
      "cell_type": "markdown",
      "source": [
        "* ANO: Isso representa o ano em que o registro foi feito.\n",
        "\n",
        "* MES: Isso representa o mês em que o registro foi feito.\n",
        "\n",
        "* UF: Esta é a abreviação do estado no Brasil onde o registro foi feito.\n",
        "\n",
        "* CATEGORIA: Isso representa a categoria do indivíduo ou entidade a que o registro se refere. Pode ser um cidadão, uma empresa com segurança orgânica, um caçador de subsistência, etc.\n",
        "\n",
        "* TIPO: Isso representa o tipo de registro. Pode ser novos registros, renovações ou transferências.\n",
        "\n",
        "* REGISTROS: Isso representa o número de registros do tipo dado que foram feitos no mês e ano dados.\n",
        "\n",
        "* DATE: Esta é uma combinação do ano e mês (ANO e MES) em um formato diferente.\n",
        "\n",
        "\n",
        "\n",
        "\n"
      ],
      "metadata": {
        "id": "ZaEvthC3jgHH"
      }
    },
    {
      "cell_type": "code",
      "source": [
        "from google.colab import files\n",
        "import pandas as pd\n",
        "import io\n",
        "import matplotlib.pyplot as plt\n",
        "import seaborn as sns"
      ],
      "metadata": {
        "id": "O_zYO5jakMZN"
      },
      "execution_count": null,
      "outputs": []
    },
    {
      "cell_type": "code",
      "source": [
        "arquivos = [\n",
        "            'SINARM_REGISTROS_ARMAS_EXPEDIDOS_2023_05',\n",
        "            'SINARM_REGISTROS_ARMAS_EXPEDIDOS_2023_04',\n",
        "            'SINARM_REGISTROS_ARMAS_EXPEDIDOS_2023_03',\n",
        "            'SINARM_REGISTROS_ARMAS_EXPEDIDOS_2023_02',\n",
        "            'SINARM_REGISTROS_ARMAS_EXPEDIDOS_2023_01',\n",
        "            'SINARM_REGISTROS_ARMAS_EXPEDIDOS_2022_12',\n",
        "            'SINARM_REGISTROS_ARMAS_EXPEDIDOS_2022_11',\n",
        "            'SINARM_REGISTROS_ARMAS_EXPEDIDOS_2022_10',\n",
        "            'SINARM_REGISTROS_ARMAS_EXPEDIDOS_2022_09',\n",
        "            'SINARM_REGISTROS_ARMAS_EXPEDIDOS_2022_08',\n",
        "            'SINARM_REGISTROS_ARMAS_EXPEDIDOS_2022_07',\n",
        "            'SINARM_REGISTROS_ARMAS_EXPEDIDOS_2022_06',\n",
        "            'SINARM_REGISTROS_ARMAS_EXPEDIDOS_2022_05',\n",
        "            'SINARM_REGISTROS_ARMAS_EXPEDIDOS_2022_04',\n",
        "            'SINARM_REGISTROS_ARMAS_EXPEDIDOS_2022_03',\n",
        "            'SINARM_REGISTROS_ARMAS_EXPEDIDOS_2022_02',\n",
        "            'SINARM_REGISTROS_ARMAS_EXPEDIDOS_2022_01'\n",
        "]"
      ],
      "metadata": {
        "id": "9Hoy3H8s4sTE"
      },
      "execution_count": null,
      "outputs": []
    },
    {
      "cell_type": "markdown",
      "source": [
        "---"
      ],
      "metadata": {
        "id": "-UvbI3ZPvXjP"
      }
    },
    {
      "cell_type": "markdown",
      "source": [
        "## Carregando diretamente do Excel"
      ],
      "metadata": {
        "id": "jbyeHig_tx7A"
      }
    },
    {
      "cell_type": "code",
      "source": [
        "import pandas as pd\n",
        "import numpy as np\n",
        "import matplotlib.pyplot as plt\n",
        "import seaborn as sns\n",
        "from datetime import datetime"
      ],
      "metadata": {
        "id": "RG8HjM9oUaju"
      },
      "execution_count": null,
      "outputs": []
    },
    {
      "cell_type": "code",
      "source": [
        "# Carregar o novo conjunto de dados 'SINARM_2.csv'\n",
        "data =pd.read_csv('SINARM.csv', sep=';', encoding = 'Utf-8')\n",
        "\n",
        "# Mostrar as primeiras 10 linhas do novo dataframe\n",
        "data.head(10)"
      ],
      "metadata": {
        "id": "cnKvjdtRkSiy"
      },
      "execution_count": null,
      "outputs": []
    },
    {
      "cell_type": "code",
      "source": [
        "# Convert 'ANO' and 'MES' to string\n",
        "data['ANO'] = data['ANO'].astype(str)\n",
        "data['MES'] = data['MES'].astype(str)\n",
        "\n",
        "# Combine the 'ANO' and 'MES' columns to create a 'DATA' column\n",
        "data['DATA'] = pd.to_datetime(data['ANO'] + '-' + data['MES'] + '-01')\n",
        "\n",
        "# Group the data by 'DATA' and calculate the sum of 'REGISTROS' for each date\n",
        "df2_grouped = data.groupby('DATA')['REGISTROS'].sum().reset_index()\n",
        "\n",
        "# Display the first 7 rows of the grouped dataframe\n",
        "df2_grouped.head(17)"
      ],
      "metadata": {
        "id": "Ws7xYqgUrR6d"
      },
      "execution_count": null,
      "outputs": []
    },
    {
      "cell_type": "markdown",
      "source": [
        "## Mapeamento por Região"
      ],
      "metadata": {
        "id": "sIEwaeoow55y"
      }
    },
    {
      "cell_type": "code",
      "source": [
        "# Mapeamento dos estados para as respectivas regiões\n",
        "regioes = {\n",
        "    'AC': 'Norte',\n",
        "    'AL': 'Nordeste',\n",
        "    'AP': 'Norte',\n",
        "    'AM': 'Norte',\n",
        "    'BA': 'Nordeste',\n",
        "    'CE': 'Nordeste',\n",
        "    'DF': 'Centro-Oeste',\n",
        "    'ES': 'Sudeste',\n",
        "    'GO': 'Centro-Oeste',\n",
        "    'MA': 'Nordeste',\n",
        "    'MT': 'Centro-Oeste',\n",
        "    'MS': 'Centro-Oeste',\n",
        "    'MG': 'Sudeste',\n",
        "    'PA': 'Norte',\n",
        "    'PB': 'Nordeste',\n",
        "    'PR': 'Sul',\n",
        "    'PE': 'Nordeste',\n",
        "    'PI': 'Nordeste',\n",
        "    'RJ': 'Sudeste',\n",
        "    'RN': 'Nordeste',\n",
        "    'RS': 'Sul',\n",
        "    'RO': 'Norte',\n",
        "    'RR': 'Norte',\n",
        "    'SC': 'Sul',\n",
        "    'SP': 'Sudeste',\n",
        "    'SE': 'Nordeste',\n",
        "    'TO': 'Norte'\n",
        "}\n",
        "\n",
        "# Nova coluna 'REGIAO' mapeando os estados para as respectivas regiões\n",
        "data['REGIAO'] =data['UF'].map(regioes)\n",
        "data.head()"
      ],
      "metadata": {
        "id": "lSPPelBaUvvk"
      },
      "execution_count": null,
      "outputs": []
    },
    {
      "cell_type": "markdown",
      "source": [
        "---"
      ],
      "metadata": {
        "id": "sx7UVyYY_sF2"
      }
    },
    {
      "cell_type": "code",
      "source": [
        "# Agrupar os dados por UF e calcular a soma dos registros\n",
        "df2_grouped_uf = data.groupby('UF')['REGISTROS'].sum().reset_index()\n",
        "\n",
        "# Calcular a média dos registros por UF\n",
        "mean_registros_uf = df2_grouped_uf['REGISTROS'].mean()\n",
        "\n",
        "# Configurar o estilo do gráfico para um estilo mais agradável\n",
        "sns.set_style('white')\n",
        "\n",
        "# Configurar o tamanho da figura\n",
        "plt.figure(figsize=(12, 6))\n",
        "\n",
        "# Criar um gráfico de barras para mostrar a quantidade de registros por UF\n",
        "barplot = sns.barplot(data=df2_grouped_uf, x='UF', y='REGISTROS', color='black')\n",
        "\n",
        "# Adicionar uma linha horizontal representando a média dos registros\n",
        "plt.axhline(y=mean_registros_uf, color='gray', linestyle='--')\n",
        "\n",
        "# Preencher as barras acima e abaixo da média com cores diferentes\n",
        "barplot.bar_label(barplot.containers[0], labels=[f'{x/1000:.1f}k' for x in df2_grouped_uf['REGISTROS']], color='black')\n",
        "for i in range(df2_grouped_uf.shape[0]):\n",
        "    barplot.containers[0][i].set_color('lightblue' if df2_grouped_uf['REGISTROS'].iloc[i] >= mean_registros_uf else 'lightcoral')\n",
        "\n",
        "# Remover as linhas de grade e as caixas de eixo\n",
        "sns.despine()\n",
        "\n",
        "plt.title('Quantidade de Registros por UF', fontsize=16, fontweight='bold')\n",
        "plt.xlabel('UF', fontsize=14)\n",
        "plt.ylabel('Total de Registros (em milhares)', fontsize=14)\n",
        "plt.xticks(rotation=90)\n",
        "plt.show()"
      ],
      "metadata": {
        "id": "aeUQoZHdtVd1"
      },
      "execution_count": null,
      "outputs": []
    },
    {
      "cell_type": "markdown",
      "source": [
        "O gráfico de barras mostra a quantidade total de registros de armas para cada Unidade Federativa (UF) no Brasil. A partir deste gráfico, podemos inferir que existem diferenças significativas na quantidade de registros de armas entre as UFs.\n",
        "Algumas UFs têm um número de registros muito acima da média, enquanto outras têm um número de registros abaixo da média. Isso pode ser devido a uma variedade de fatores, incluindo diferenças nas leis de armas, taxas de criminalidade, cultura de armas e outros fatores socioeconômicos entre as UFs.\n",
        "\n",
        "Para a loja, esses insights podem ser úteis para entender onde a demanda por armas é maior e onde pode haver oportunidades de expansão. Além disso, entender as tendências regionais pode ajudar a loja a adaptar suas estratégias de marketing e vendas para diferentes regiões.\n",
        "\n",
        "Por exemplo, se uma UF tem um número de registros significativamente acima da média, isso pode indicar uma demanda excepcionalmente alta por armas nessa região. A loja de armas pode considerar focar mais recursos de marketing e vendas nessa UF para aproveitar essa demanda. Por outro lado, se uma UF tem um número de registros significativamente abaixo da média, a loja de armas pode precisar investigar as razões para a baixa demanda e ajustar suas estratégias de acordo."
      ],
      "metadata": {
        "id": "vpc32RePvt-J"
      }
    },
    {
      "cell_type": "markdown",
      "source": [
        "## Quantidade de Registros por Região"
      ],
      "metadata": {
        "id": "s2uPK5qezmzS"
      }
    },
    {
      "cell_type": "code",
      "source": [
        "# Agrupar os dados por REGIAO e calcular a soma dos registros\n",
        "df2_grouped_regiao = data.groupby('REGIAO')['REGISTROS'].sum().reset_index()\n",
        "\n",
        "# Calcular a média dos registros por REGIAO\n",
        "mean_registros_regiao = df2_grouped_regiao['REGISTROS'].mean()\n",
        "\n",
        "# Configurar o estilo do gráfico\n",
        "sns.set_style('white')\n",
        "\n",
        "# Configurar o tamanho da figura\n",
        "plt.figure(figsize=(12, 6))\n",
        "\n",
        "# Criar um gráfico de barras para mostrar a quantidade de registros por REGIAO\n",
        "barplot = sns.barplot(data=df2_grouped_regiao, x='REGIAO', y='REGISTROS', color='black')\n",
        "\n",
        "# Adicionar uma linha horizontal representando a média dos registros\n",
        "plt.axhline(y=mean_registros_regiao, color='gray', linestyle='--')\n",
        "\n",
        "# Preencher as barras acima e abaixo da média com cores diferentes\n",
        "barplot.bar_label(barplot.containers[0], labels=[f'{x/1000:.1f}k' for x in df2_grouped_regiao['REGISTROS']], color='black')\n",
        "for i in range(df2_grouped_regiao.shape[0]):\n",
        "    barplot.containers[0][i].set_color('lightblue' if df2_grouped_regiao['REGISTROS'].iloc[i] >= mean_registros_regiao else 'lightcoral')\n",
        "\n",
        "# Remover as linhas de grade e as caixas de eixo\n",
        "sns.despine()\n",
        "\n",
        "plt.title('Quantidade de Registros por Região 2022-2023', fontsize=16, fontweight='bold')\n",
        "plt.xlabel('Região', fontsize=14)\n",
        "plt.ylabel('Total de Registros (em milhares)', fontsize=14)\n",
        "plt.xticks(rotation=90)\n",
        "plt.show()"
      ],
      "metadata": {
        "id": "PY6EJUVzxTvm"
      },
      "execution_count": null,
      "outputs": []
    },
    {
      "cell_type": "markdown",
      "source": [
        "O gráfico de barras mostra a quantidade total de registros de armas por região no Brasil para o período de 2022 a 2023. As regiões são representadas no eixo x, enquanto o total de registros (em milhares) é representado no eixo y.\n",
        "\n",
        "A partir deste gráfico, podemos observar que a região Sudeste tem o maior número de registros, seguida pela região Nordeste. As regiões Norte, Centro-Oeste e Sul têm um número de registros abaixo da média.\n",
        "\n",
        "Isso pode indicar que a demanda por armas é maior nas regiões Sudeste e Nordeste. No entanto, é importante notar que isso pode ser influenciado por vários fatores, como a população total de cada região, a legislação local sobre armas, e a situação socioeconômica.\n",
        "\n",
        "Para a loja de armas, essas informações podem ser úteis para entender a distribuição da demanda por armas no país. Por exemplo, se a loja estiver localizada na região Sudeste, ela pode esperar uma demanda maior em comparação com uma loja localizada na região Norte.\n",
        "\n",
        "Além disso, se a loja estiver considerando a expansão para outras regiões, esses dados podem ajudar a identificar quais regiões podem ter a maior demanda potencial.\n"
      ],
      "metadata": {
        "id": "S8w7Cc9Rx08b"
      }
    },
    {
      "cell_type": "code",
      "source": [
        "# Calculate the mean of the 'REGISTROS'\n",
        "mean_registros = df2_grouped['REGISTROS'].mean()\n",
        "# Set the figure size\n",
        "plt.figure(figsize=(12, 6))\n",
        "# Create a line plot to show the evolution of 'REGISTROS' over time\n",
        "sns.lineplot(data=df2_grouped, x='DATA', y='REGISTROS', color='black')\n",
        "# Add a horizontal line representing the mean of 'REGISTROS'\n",
        "plt.axhline(y=mean_registros, color='gray', linestyle='--')\n",
        "# Fill the areas above and below the mean with different colors\n",
        "plt.fill_between(df2_grouped['DATA'], df2_grouped['REGISTROS'], mean_registros, where=(df2_grouped['REGISTROS'] >= mean_registros), color='lightblue', interpolate=True)\n",
        "plt.fill_between(df2_grouped['DATA'], df2_grouped['REGISTROS'], mean_registros, where=(df2_grouped['REGISTROS'] < mean_registros), color='lightcoral', interpolate=True)\n",
        "# Remove the grid lines and the box around the plot\n",
        "sns.despine()\n",
        "# Add data labels and convert the values to 'k' (thousands)\n",
        "for i in range(df2_grouped.shape[0]):\n",
        "    plt.text(x=df2_grouped.DATA[i], y=df2_grouped.REGISTROS[i], s=f'{df2_grouped.REGISTROS[i]/1000:.1f}k', ha='center')\n",
        "plt.title('Evolução dos Registros ao Longo do Tempo', fontsize=16, fontweight='bold')\n",
        "plt.xlabel('Data', fontsize=14)\n",
        "plt.ylabel('Total de Registros (em milhares)', fontsize=14)\n",
        "plt.show()"
      ],
      "metadata": {
        "id": "U9SEn8w-tSER"
      },
      "execution_count": null,
      "outputs": []
    },
    {
      "cell_type": "markdown",
      "source": [
        "O gráfico mostra a evolução do total de registros de armas ao longo do tempo. A linha cinza representa a média dos registros durante todo o período. As áreas acima da média são preenchidas com azul claro, indicando que o número de registros nesses meses estava acima da média. As áreas abaixo da média são preenchidas com coral claro, indicando que o número de registros nesses meses estava abaixo da média.\n",
        "\n",
        "A partir deste gráfico, podemos observar que há uma variação no número de registros ao longo do tempo. Existem meses em que o número de registros é significativamente maior do que a média, enquanto em outros meses, o número de registros é menor.\n",
        "\n",
        "Para a loja de armas, isso pode indicar que existem certos períodos do ano em que a demanda por armas é maior. Esses períodos de alta demanda podem estar relacionados a vários fatores, como mudanças na legislação, eventos políticos ou sociais, ou até mesmo tendências sazonais.\n",
        "\n",
        "Além disso,  as eleições ocorreram no último dia de outubro e a posse do novo presidente foi em primeiro de janeiro. Esses eventos políticos significativos podem ter um impacto na demanda por armas. Por exemplo, as pessoas podem comprar mais armas antes das eleições devido à incerteza sobre as políticas futuras. Da mesma forma, a posse de um novo presidente pode levar a um aumento na demanda por armas, dependendo das expectativas das pessoas sobre as políticas do novo governo.\n",
        "\n",
        "Para obter insights mais precisos, seria útil analisar mais detalhadamente os dados e identificar quais fatores estão contribuindo para essas flutuações na demanda. Por exemplo, se a demanda por armas aumenta em determinados meses do ano, a loja de armas pode se preparar para esses períodos aumentando o estoque ou realizando promoções para maximizar as vendas."
      ],
      "metadata": {
        "id": "az0aj-sutUoP"
      }
    },
    {
      "cell_type": "code",
      "source": [
        "# Filtrar os dados para apenas São Paulo\n",
        "df2_sp = data[data['UF'] == 'SP']\n",
        "\n",
        "# Agrupar os dados por 'DATA' e calcular a soma de 'REGISTROS' para cada data\n",
        "df2_sp_grouped = df2_sp.groupby('DATA')['REGISTROS'].sum().reset_index()\n",
        "\n",
        "# Calcular a média dos 'REGISTROS'\n",
        "mean_registros = df2_sp_grouped['REGISTROS'].mean()\n",
        "\n",
        "# Configurar o tamanho da figura\n",
        "plt.figure(figsize=(12, 6))\n",
        "\n",
        "# Criar um gráfico de linha para mostrar a evolução dos 'REGISTROS' ao longo do tempo\n",
        "sns.lineplot(data=df2_sp_grouped, x='DATA', y='REGISTROS', color='black')\n",
        "\n",
        "# Adicionar uma linha horizontal representando a média dos 'REGISTROS'\n",
        "plt.axhline(y=mean_registros, color='gray', linestyle='--')\n",
        "\n",
        "# Preencher as áreas acima e abaixo da média com cores diferentes\n",
        "plt.fill_between(df2_sp_grouped['DATA'], df2_sp_grouped['REGISTROS'], mean_registros, where=(df2_sp_grouped['REGISTROS'] >= mean_registros), color='lightblue', interpolate=True)\n",
        "plt.fill_between(df2_sp_grouped['DATA'], df2_sp_grouped['REGISTROS'], mean_registros, where=(df2_sp_grouped['REGISTROS'] < mean_registros), color='lightcoral', interpolate=True)\n",
        "\n",
        "# Remover as linhas de grade e a caixa em torno do gráfico\n",
        "sns.despine()\n",
        "\n",
        "# Adicionar rótulos de dados e converter os valores para 'k' (milhares)\n",
        "for i in range(df2_sp_grouped.shape[0]):\n",
        "    plt.text(x=df2_sp_grouped.DATA[i], y=df2_sp_grouped.REGISTROS[i], s=f'{df2_sp_grouped.REGISTROS[i]/1000:.1f}k', ha='center')\n",
        "\n",
        "plt.title('Evolução dos Registros ao Longo do Tempo em São Paulo', fontsize=16, fontweight='bold')\n",
        "plt.xlabel('Data', fontsize=14)\n",
        "plt.ylabel('Total de Registros (em milhares)', fontsize=14)\n",
        "plt.show()"
      ],
      "metadata": {
        "id": "ty0yuimHWGcX"
      },
      "execution_count": null,
      "outputs": []
    },
    {
      "cell_type": "markdown",
      "source": [
        "Este gráfico mostra a evolução dos registros de armas no estado de São Paulo ao longo do tempo. Observamos que, em geral, a quantidade de registros de armas estava acima da média até outubro, mês das eleições. Isso pode indicar que, na expectativa de uma possível vitória do governo antiarmamentista, as pessoas podem ter acelerado seus processos de registro de armas.\n",
        "\n",
        "Após as eleições, em novembro e dezembro, há uma queda acentuada nos registros, ficando abaixo da média. Isso pode ser interpretado como uma resposta à vitória do governo antiarmamentista, que provavelmente implementará políticas mais rigorosas para o registro de armas.\n",
        "\n",
        "A partir de janeiro, com o início do novo governo, os registros continuam abaixo da média, o que pode ser um reflexo das novas políticas implementadas. No entanto, é importante notar que esses dados são apenas até fevereiro, e seria interessante continuar monitorando essa tendência ao longo do ano para ver se essa queda persiste ou se há uma recuperação nos registros.\n",
        "\n",
        "Essa análise sugere que as políticas governamentais e o clima político podem ter um impacto significativo no comportamento das pessoas em relação ao registro de armas."
      ],
      "metadata": {
        "id": "hFW5XHCBWGtm"
      }
    },
    {
      "cell_type": "markdown",
      "source": [
        "## Tipos de Registros em São Paulo"
      ],
      "metadata": {
        "id": "5DfAB60vyAru"
      }
    },
    {
      "cell_type": "code",
      "source": [
        "# Filtrar os dados para apenas São Paulo\n",
        "df2_sp = data[data['UF'] == 'SP']\n",
        "\n",
        "# Agrupar os dados por TIPO e calcular a soma dos registros\n",
        "df2_sp_grouped_tipo = df2_sp.groupby('TIPO')['REGISTROS'].sum().reset_index()\n",
        "\n",
        "# Calcular a média dos registros por TIPO\n",
        "mean_registros_tipo = df2_sp_grouped_tipo['REGISTROS'].mean()\n",
        "\n",
        "# Configurar o estilo do gráfico para um estilo mais agradável\n",
        "sns.set_style('white')\n",
        "\n",
        "# Configurar o tamanho da figura\n",
        "plt.figure(figsize=(12, 6))\n",
        "\n",
        "# Criar um gráfico de barras para mostrar a quantidade de registros por TIPO\n",
        "barplot = sns.barplot(data=df2_sp_grouped_tipo, x='TIPO', y='REGISTROS', color='black')\n",
        "\n",
        "# Adicionar uma linha horizontal representando a média dos registros\n",
        "plt.axhline(y=mean_registros_tipo, color='gray', linestyle='--')\n",
        "\n",
        "# Preencher as barras acima e abaixo da média com cores diferentes\n",
        "barplot.bar_label(barplot.containers[0], labels=[f'{x/1000:.1f}k' for x in df2_sp_grouped_tipo['REGISTROS']], color='black')\n",
        "for i in range(df2_sp_grouped_tipo.shape[0]):\n",
        "    barplot.containers[0][i].set_color('lightblue' if df2_sp_grouped_tipo['REGISTROS'].iloc[i] >= mean_registros_tipo else 'lightcoral')\n",
        "\n",
        "# Remover as linhas de grade e as caixas de eixo\n",
        "sns.despine()\n",
        "\n",
        "plt.title('Quantidade de Registros por Tipo em São Paulo', fontsize=16, fontweight='bold')\n",
        "plt.xlabel('Tipo', fontsize=14)\n",
        "plt.ylabel('Total de Registros (em milhares)', fontsize=14)\n",
        "plt.xticks(rotation=90)\n",
        "plt.show()"
      ],
      "metadata": {
        "id": "BCtnV-GWx1qE"
      },
      "execution_count": null,
      "outputs": []
    },
    {
      "cell_type": "markdown",
      "source": [
        "O gráfico de barras mostra a quantidade total de registros de armas por tipo no estado de São Paulo.\n",
        "\n",
        "A partir deste gráfico, podemos observar que há uma variação no número de registros dependendo do tipo de arma. Existem tipos de armas que têm um número significativamente maior de registros do que outros. Isso pode ser devido a uma variedade de fatores, como a popularidade de certos tipos de armas, a facilidade de obtenção de determinados tipos de armas, ou as leis e regulamentos específicos relacionados a diferentes tipos de armas.\n",
        "\n",
        "Para a loja de armas, isso pode indicar que existem certos tipos de armas que são mais demandados. Esses tipos de armas podem ser o foco principal da loja, pois eles têm o potencial de gerar mais vendas. Além disso, a loja pode considerar a realização de promoções ou descontos em tipos de armas que têm menos registros, a fim de aumentar a demanda por esses itens."
      ],
      "metadata": {
        "id": "Kh3kygMYyGsU"
      }
    },
    {
      "cell_type": "code",
      "source": [
        "# Carregar o conjunto de dados 'SINARM_2.csv'\n",
        "data = pd.read_csv('SINARM_2.csv', sep=';', encoding = 'Utf-8')\n",
        "\n",
        "# Converter 'ANO' e 'MES' para string\n",
        "data['ANO'] = data['ANO'].astype(str)\n",
        "data['MES'] = data['MES'].astype(str)\n",
        "\n",
        "# Combinar as colunas 'ANO' e 'MES' para criar uma coluna 'DATA'\n",
        "data['DATA'] = pd.to_datetime(data['ANO'] + '-' + data['MES'] + '-01')\n",
        "\n",
        "# Filtrar os dados para apenas São Paulo\n",
        "df2_sp = data[data['UF'] == 'SP']\n",
        "\n",
        "# Agrupar os dados por DATA e TIPO e calcular a soma dos registros\n",
        "df2_sp_grouped_data_tipo = df2_sp.groupby(['DATA', 'TIPO'])['REGISTROS'].sum().reset_index()\n",
        "\n",
        "# Configurar o tamanho da figura\n",
        "plt.figure(figsize=(12, 6))\n",
        "\n",
        "# Criar um gráfico de linha para mostrar a evolução dos registros por TIPO ao longo do tempo\n",
        "sns.lineplot(data=df2_sp_grouped_data_tipo, x='DATA', y='REGISTROS', hue='TIPO', style='TIPO', markers=True)\n",
        "\n",
        "plt.title('Evolução dos Registros por Tipo em São Paulo', fontsize=16, fontweight='bold')\n",
        "plt.xlabel('Data', fontsize=14)\n",
        "plt.ylabel('Total de Registros', fontsize=14)\n",
        "plt.show()"
      ],
      "metadata": {
        "id": "AQB72ckYZxGd"
      },
      "execution_count": null,
      "outputs": []
    },
    {
      "cell_type": "markdown",
      "source": [
        "* Novos registros: Há uma tendência geral de aumento nos novos registros ao longo do tempo. Isso pode ser devido a uma variedade de fatores, incluindo mudanças na legislação, percepções de segurança ou **mudanças na disponibilidade de armas** de fogo.\n",
        "\n",
        "* Renovações: A quantidade de renovações parece ser bastante **estável ao longo do tempo**. Isso sugere que uma vez que as pessoas obtêm uma arma de fogo, elas **tendem a mantê-la e renovar seu registro** conforme necessário.\n",
        "\n",
        "* Transferências: A quantidade de transferências parece ser menor em comparação com novos registros e renovações. Isso pode indicar que a **posse de armas de fogo é uma decisão de longo prazo** e as pessoas não transferem frequentemente suas armas para outras pessoas.\n",
        "\n",
        "Efeito das eleições e mudança de governo: Não há uma mudança clara e abrupta nos registros de armas de fogo em torno das eleições de 31 de outubro ou da posse do novo governo em 1º de janeiro. Isso pode ser porque as políticas de armas de fogo geralmente levam algum tempo para ter um impacto visível nos registros de armas de fogo. Além disso, as pessoas podem antecipar mudanças na política e ajustar seu comportamento de acordo, o que pode suavizar qualquer mudança abrupta nos registros de armas de fogo."
      ],
      "metadata": {
        "id": "Kasg8Xn_Zx2P"
      }
    },
    {
      "cell_type": "markdown",
      "source": [
        "## Registros por Categoria em São Paulo"
      ],
      "metadata": {
        "id": "bdHbYTT5y86S"
      }
    },
    {
      "cell_type": "code",
      "source": [
        "# Filtrar os dados para apenas São Paulo\n",
        "df2_sp = data[data['UF'] == 'SP']\n",
        "\n",
        "# Agrupar os dados por CATEGORIA e calcular a soma dos registros\n",
        "df2_sp_grouped_categoria = df2_sp.groupby('CATEGORIA')['REGISTROS'].sum().reset_index()\n",
        "\n",
        "# Calcular a média dos registros por CATEGORIA\n",
        "mean_registros_categoria = df2_sp_grouped_categoria['REGISTROS'].mean()\n",
        "\n",
        "# Configurar o estilo do gráfico para um estilo mais agradável\n",
        "sns.set_style('white')\n",
        "\n",
        "# Configurar o tamanho da figura\n",
        "plt.figure(figsize=(12, 6))\n",
        "\n",
        "# Criar um gráfico de barras para mostrar a quantidade de registros por CATEGORIA\n",
        "barplot = sns.barplot(data=df2_sp_grouped_categoria, x='CATEGORIA', y='REGISTROS', color='black')\n",
        "\n",
        "# Adicionar uma linha horizontal representando a média dos registros\n",
        "plt.axhline(y=mean_registros_categoria, color='gray', linestyle='--')\n",
        "\n",
        "# Preencher as barras acima e abaixo da média com cores diferentes\n",
        "barplot.bar_label(barplot.containers[0], labels=[f'{x/1000:.1f}k' for x in df2_sp_grouped_categoria['REGISTROS']], color='black')\n",
        "for i in range(df2_sp_grouped_categoria.shape[0]):\n",
        "    barplot.containers[0][i].set_color('lightblue' if df2_sp_grouped_categoria['REGISTROS'].iloc[i] >= mean_registros_categoria else 'lightcoral')\n",
        "\n",
        "# Remover as linhas de grade e as caixas de eixo\n",
        "sns.despine()\n",
        "\n",
        "plt.title('Quantidade de Registros por Categoria em São Paulo', fontsize=16, fontweight='bold')\n",
        "plt.xlabel('Categoria', fontsize=14)\n",
        "plt.ylabel('Total de Registros (em milhares)', fontsize=14)\n",
        "plt.xticks(rotation=90)\n",
        "plt.show()"
      ],
      "metadata": {
        "id": "AsdxICfehVVE"
      },
      "execution_count": null,
      "outputs": []
    },
    {
      "cell_type": "markdown",
      "source": [
        "O gráfico gerado representa a quantidade de registros por categoria no estado de São Paulo. As barras representam as diferentes categorias de usuários, e a altura de cada barra indica a quantidade de registros para essa categoria. A linha cinza horizontal representa a média de registros entre todas as categorias.\n",
        "\n",
        "A partir do gráfico, podemos observar que algumas categorias têm um número significativamente maior de registros do que outras. As categorias que estão acima da média são coloridas de azul claro, enquanto as que estão abaixo da média são coloridas de coral claro."
      ],
      "metadata": {
        "id": "xARMCnFdhY0q"
      }
    },
    {
      "cell_type": "markdown",
      "source": [
        "## Registros por Cidadão"
      ],
      "metadata": {
        "id": "mo1F5dMLb0jE"
      }
    },
    {
      "cell_type": "code",
      "source": [
        "# Filtrar os dados para apenas a categoria 'Cidadão'\n",
        "df2_sp_selected_category = df2_sp_selected_categories[df2_sp_selected_categories['CATEGORIA'] == 'Cidadão']\n",
        "\n",
        "# Agrupar os dados por DATA e calcular a soma dos registros\n",
        "df2_sp_selected_category_grouped = df2_sp_selected_category.groupby('DATA')['REGISTROS'].sum().reset_index()\n",
        "\n",
        "# Calcular a média dos registros\n",
        "mean_registros = df2_sp_selected_category_grouped['REGISTROS'].mean()\n",
        "\n",
        "# Configurar o estilo do gráfico para um estilo mais agradável\n",
        "sns.set_style('white')\n",
        "\n",
        "# Configurar o tamanho da figura\n",
        "plt.figure(figsize=(12, 6))\n",
        "\n",
        "# Criar um gráfico de linha para mostrar a evolução dos registros ao longo do tempo\n",
        "line_plot = sns.lineplot(data=df2_sp_selected_category_grouped, x='DATA', y='REGISTROS', color='black', marker='o')\n",
        "\n",
        "# Adicionar uma linha horizontal representando a média dos registros\n",
        "plt.axhline(y=mean_registros, color='gray', linestyle='--')\n",
        "\n",
        "# Preencher as áreas acima e abaixo da média com cores diferentes\n",
        "plt.fill_between(df2_sp_selected_category_grouped['DATA'], df2_sp_selected_category_grouped['REGISTROS'], mean_registros, where=(df2_sp_selected_category_grouped['REGISTROS'] >= mean_registros), color='lightblue', interpolate=True)\n",
        "plt.fill_between(df2_sp_selected_category_grouped['DATA'], df2_sp_selected_category_grouped['REGISTROS'], mean_registros, where=(df2_sp_selected_category_grouped['REGISTROS'] < mean_registros), color='lightcoral', interpolate=True)\n",
        "\n",
        "# Adicionar rótulos de dados\n",
        "for x_value, y_value in zip(df2_sp_selected_category_grouped['DATA'], df2_sp_selected_category_grouped['REGISTROS']):\n",
        "    plt.text(x_value, y_value, f'{y_value:.0f}')\n",
        "\n",
        "# Remover as linhas de grade e as caixas de eixo\n",
        "sns.despine(left=True, bottom=True)\n",
        "\n",
        "# Definir o título e os rótulos dos eixos\n",
        "plt.title('Evolução dos Registros para a Categoria \\'Cidadão\\' em São Paulo', fontsize=16, fontweight='bold')\n",
        "plt.xlabel('Data', fontsize=14)\n",
        "plt.ylabel('Total de Registros', fontsize=14)\n",
        "plt.show()"
      ],
      "metadata": {
        "id": "iFjKpu7he3KX"
      },
      "execution_count": null,
      "outputs": []
    },
    {
      "cell_type": "code",
      "source": [],
      "metadata": {
        "id": "ynOh8JhEfHiN"
      },
      "execution_count": null,
      "outputs": []
    }
  ]
}